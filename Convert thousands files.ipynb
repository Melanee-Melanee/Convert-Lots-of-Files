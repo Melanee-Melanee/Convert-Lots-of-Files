{
 "cells": [
  {
   "cell_type": "code",
   "execution_count": null,
   "metadata": {},
   "outputs": [],
   "source": [
    "import comtypes.client\n",
    "import os\n",
    "\n",
    "def PPTtoPDF(inputFileName, outputFileName, formatType = 32):\n",
    "    powerpoint = comtypes.client.CreateObject(\"Powerpoint.Application\")\n",
    "    powerpoint.Visible = 1\n",
    "\n",
    "    deck = powerpoint.Presentations.Open(inputFileName)\n",
    "    deck.SaveAs(outputFileName, formatType) # formatType = 32 for ppt to pdf\n",
    "    deck.Close()\n",
    "    powerpoint.Quit()"
   ]
  },
  {
   "cell_type": "code",
   "execution_count": null,
   "metadata": {},
   "outputs": [],
   "source": [
    " list (os.walk(r'slides'))\n",
    "#instead of 'slides' you must input your folder based on ypur system\n",
    "#notice that your folder must be in your main root of your system, e.g, 'C:/...'"
   ]
  },
  {
   "cell_type": "code",
   "execution_count": null,
   "metadata": {},
   "outputs": [],
   "source": [
    "dir_path = os.getcwd()\n",
    "print(dir_path)\n",
    "for root, dirs, files in os.walk(r'slides'):\n",
    "    new_root = os.path.join(dir_path, root)\n",
    "    for file in files:\n",
    "        pdfname = file.split('.')[0]+'.pdf'\n",
    "        power_point_address = os.path.join(new_root, file)\n",
    "        print(power_point_address)\n",
    "        pdf_address = os.path.join(new_root, pdfname)\n",
    "        print(pdf_address)\n",
    "        PPTtoPDF(power_point_address, pdf_address)"
   ]
  }
 ],
 "metadata": {
  "kernelspec": {
   "display_name": "Python 3",
   "language": "python",
   "name": "python3"
  },
  "language_info": {
   "codemirror_mode": {
    "name": "ipython",
    "version": 3
   },
   "file_extension": ".py",
   "mimetype": "text/x-python",
   "name": "python",
   "nbconvert_exporter": "python",
   "pygments_lexer": "ipython3",
   "version": "3.8.5"
  }
 },
 "nbformat": 4,
 "nbformat_minor": 4
}
